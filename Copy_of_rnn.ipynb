{
  "cells": [
    {
      "cell_type": "code",
      "metadata": {
        "id": "s3VwFC3X3lT8",
        "colab_type": "code",
        "outputId": "be63d929-c14f-4e1a-c19a-65fe0ffbe150",
        "colab": {
          "resources": {
            "http://localhost:8080/nbextensions/google.colab/files.js": {
              "data": "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",
              "ok": true,
              "headers": [
                [
                  "content-type",
                  "application/javascript"
                ]
              ],
              "status": 200,
              "status_text": ""
            }
          },
          "base_uri": "https://localhost:8080/",
          "height": 238
        }
      },
      "source": [
        "from google.colab import files\n",
        "import pandas as pd\n",
        "import io\n",
        "import re\n",
        "import numpy\n",
        "import random\n",
        "import time, math\n",
        "\n",
        "\n",
        "uploaded = files.upload()\n",
        "uploaded2 = files.upload()\n",
        "uploaded3 = files.upload()\n",
        "uploaded4 = files.upload()\n",
        "kanye = uploaded[\"kanye_verses.txt\"].decode(\"utf-8\").lower()\n",
        "ts = uploaded2[\"cleaned_taylorLyrics.txt\"].decode(\"utf-8\").lower()\n",
        "sp = uploaded3[\"Shakespeare.txt\"].decode(\"utf-8\").lower()\n",
        "nw = uploaded4[\"Nightwish_Lyrics.txt\"].decode(\"utf-8\").lower()"
      ],
      "execution_count": 0,
      "outputs": [
        {
          "output_type": "display_data",
          "data": {
            "text/html": [
              "\n",
              "     <input type=\"file\" id=\"files-af9a8eed-ffda-4464-8a9f-cbd08858fddc\" name=\"files[]\" multiple disabled />\n",
              "     <output id=\"result-af9a8eed-ffda-4464-8a9f-cbd08858fddc\">\n",
              "      Upload widget is only available when the cell has been executed in the\n",
              "      current browser session. Please rerun this cell to enable.\n",
              "      </output>\n",
              "      <script src=\"/nbextensions/google.colab/files.js\"></script> "
            ],
            "text/plain": [
              "<IPython.core.display.HTML object>"
            ]
          },
          "metadata": {
            "tags": []
          }
        },
        {
          "output_type": "stream",
          "text": [
            "Saving kanye_verses.txt to kanye_verses (1).txt\n"
          ],
          "name": "stdout"
        },
        {
          "output_type": "display_data",
          "data": {
            "text/html": [
              "\n",
              "     <input type=\"file\" id=\"files-cca8f172-9964-4bb5-bca9-b368e9c8c5bc\" name=\"files[]\" multiple disabled />\n",
              "     <output id=\"result-cca8f172-9964-4bb5-bca9-b368e9c8c5bc\">\n",
              "      Upload widget is only available when the cell has been executed in the\n",
              "      current browser session. Please rerun this cell to enable.\n",
              "      </output>\n",
              "      <script src=\"/nbextensions/google.colab/files.js\"></script> "
            ],
            "text/plain": [
              "<IPython.core.display.HTML object>"
            ]
          },
          "metadata": {
            "tags": []
          }
        },
        {
          "output_type": "stream",
          "text": [
            "Saving cleaned_taylorLyrics.txt to cleaned_taylorLyrics (1).txt\n"
          ],
          "name": "stdout"
        },
        {
          "output_type": "display_data",
          "data": {
            "text/html": [
              "\n",
              "     <input type=\"file\" id=\"files-0b3e0da7-bfef-48b9-9e25-4a77898349b5\" name=\"files[]\" multiple disabled />\n",
              "     <output id=\"result-0b3e0da7-bfef-48b9-9e25-4a77898349b5\">\n",
              "      Upload widget is only available when the cell has been executed in the\n",
              "      current browser session. Please rerun this cell to enable.\n",
              "      </output>\n",
              "      <script src=\"/nbextensions/google.colab/files.js\"></script> "
            ],
            "text/plain": [
              "<IPython.core.display.HTML object>"
            ]
          },
          "metadata": {
            "tags": []
          }
        },
        {
          "output_type": "stream",
          "text": [
            "Saving Shakespeare.txt to Shakespeare (1).txt\n"
          ],
          "name": "stdout"
        },
        {
          "output_type": "display_data",
          "data": {
            "text/html": [
              "\n",
              "     <input type=\"file\" id=\"files-06b16001-faf8-4b2e-bcfb-8c3a4418f092\" name=\"files[]\" multiple disabled />\n",
              "     <output id=\"result-06b16001-faf8-4b2e-bcfb-8c3a4418f092\">\n",
              "      Upload widget is only available when the cell has been executed in the\n",
              "      current browser session. Please rerun this cell to enable.\n",
              "      </output>\n",
              "      <script src=\"/nbextensions/google.colab/files.js\"></script> "
            ],
            "text/plain": [
              "<IPython.core.display.HTML object>"
            ]
          },
          "metadata": {
            "tags": []
          }
        },
        {
          "output_type": "stream",
          "text": [
            "Saving Nightwish_Lyrics.txt to Nightwish_Lyrics (1).txt\n"
          ],
          "name": "stdout"
        }
      ]
    },
    {
      "cell_type": "code",
      "metadata": {
        "id": "3jICwWTIJoYr",
        "colab_type": "code",
        "outputId": "111f914f-408b-41ec-c1e6-a4c30b6d822b",
        "colab": {
          "base_uri": "https://localhost:8080/",
          "height": 33
        }
      },
      "source": [
        "# this \"cleans\" the data set to have only lowercase and whitespace\n",
        "\n",
        "kanye = re.sub('[^a-z ]+',\"\",kanye)\n",
        "ts =  re.sub('[^a-z ]+',\"\",ts)\n",
        "sp =  re.sub('[^a-z ]+',\"\",sp)\n",
        "nw =re.sub('[^a-z ]+',\"\",nw)\n",
        "# all letters used in the file, alphabets and whitespace\n",
        "char_set = sorted(list(set(kanye)))\n",
        "length = len(char_set)-1\n",
        "# removes non alphabet, from character set\n",
        "for i in reversed(range(length)):\n",
        "  if re.search('[a-z ,]',char_set[i]) == None:\n",
        "    del char_set[i]\n",
        "\n",
        "\n",
        "print(char_set)\n",
        "\n",
        "char_len = len(char_set)\n",
        "#dictionary mapping from char to int and int to char\n",
        "char_to_int = dict((c, i) for i, c in enumerate(char_set))\n",
        "int_to_char = dict((c, i) for i, c in enumerate(char_set))\n",
        "\n",
        "# splits lyrics by line\n",
        "def get_text(lyrics):\n",
        "  split = lyrics.split('\\n')\n",
        "  split2 = [line for line in split if line.strip() != \"\"]\n",
        "  text =''\n",
        "  for line in split2:\n",
        "    text = text+line\n",
        "  return text\n",
        "#dictionary containing all lyrics\n",
        "texts = dict()\n",
        "texts[\"kanye\"] = get_text(kanye)\n",
        "texts[\"taylorswift\"] =get_text(ts)\n",
        "texts[\"shakespeare\"] = get_text(sp)\n",
        "texts[\"nightwish\"] = get_text(nw)\n"
      ],
      "execution_count": 0,
      "outputs": [
        {
          "output_type": "stream",
          "text": [
            "[' ', 'a', 'b', 'c', 'd', 'e', 'f', 'g', 'h', 'i', 'j', 'k', 'l', 'm', 'n', 'o', 'p', 'q', 'r', 's', 't', 'u', 'v', 'w', 'x', 'y', 'z']\n"
          ],
          "name": "stdout"
        }
      ]
    },
    {
      "cell_type": "code",
      "metadata": {
        "id": "I_PVXDavXBdp",
        "colab_type": "code",
        "colab": {}
      },
      "source": [
        "import torch\n",
        "import torch.nn as nn\n",
        "from torch.autograd import Variable\n",
        "# LSTM with the choice to make is bidirectional\n",
        "class LSTM(nn.Module):\n",
        "    def __init__(self, x, h, y, n_layers,bi,drop):\n",
        "        super(LSTM, self).__init__()\n",
        "        self.x = x\n",
        "        self.h = h\n",
        "        self.y = y\n",
        "        self.n_layers = n_layers\n",
        "        self.bi = bi\n",
        "        self.encoder = nn.Embedding(x, h)\n",
        "        self.lstm = nn.LSTM(h, h, n_layers,bidirectional = bi,dropout=drop)\n",
        "        if bi ==True:\n",
        "          self.decoder = nn.Linear(h*2, y)\n",
        "        else:\n",
        "          self.decoder = nn.Linear(h, y)\n",
        "    def forward(self, x, h):\n",
        "\n",
        "        x = self.encoder(x.view(1, -1))\n",
        "        if self.bi ==True:\n",
        "           c0 = torch.zeros(self.n_layers*2, x.size(0), self.h).requires_grad_()\n",
        "        else:\n",
        "           c0 = torch.zeros(self.n_layers, x.size(0), self.h).requires_grad_()\n",
        "       \n",
        "        y, (h,c0) = self.lstm(x.view(1, 1, -1),(h,c0))\n",
        "        y = self.decoder(y.view(1, -1))\n",
        "        \n",
        "        return y, h\n",
        "\n",
        "    def init_h(self):\n",
        "      if self.bi ==True:\n",
        "        return Variable(torch.zeros(self.n_layers*2, 1, self.h))\n",
        "      else:\n",
        "        return Variable(torch.zeros(self.n_layers, 1, self.h))\n",
        "# GRU with the choice to make is bidirectional\n",
        "class GRU(nn.Module):\n",
        "    def __init__(self, x, h, y, n_layers,bi,drop):\n",
        "        super(GRU, self).__init__()\n",
        "        self.x = x\n",
        "        self.h = h\n",
        "        self.y = y\n",
        "        self.n_layers = n_layers\n",
        "        self.bi = bi\n",
        "        self.encoder = nn.Embedding(x, h)\n",
        "        self.gru = nn.GRU(h, h, n_layers,bidirectional=bi,dropout=drop)\n",
        "        if bi ==True:\n",
        "          self.decoder = nn.Linear(h*2,y)\n",
        "        else:\n",
        "          self.decoder = nn.Linear(h,y)\n",
        "    \n",
        "    def forward(self, x, h):\n",
        "      \n",
        "        x = self.encoder(x.view(1, -1))\n",
        "        y, h = self.gru(x.view(1, 1, -1), h)\n",
        "      \n",
        "        y= self.decoder(y.view(1, -1))\n",
        "        \n",
        "        return y, h\n",
        "\n",
        "    def init_h(self):\n",
        "        if self.bi ==True:\n",
        "          return Variable(torch.zeros(self.n_layers*2, 1, self.h))\n",
        "        else:\n",
        "          return Variable(torch.zeros(self.n_layers, 1, self.h))\n",
        "\n"
      ],
      "execution_count": 0,
      "outputs": []
    },
    {
      "cell_type": "code",
      "metadata": {
        "id": "pChZ5RYtfVrt",
        "colab_type": "code",
        "colab": {}
      },
      "source": [
        "def train_time(start):\n",
        "    second = time.time() - start\n",
        "    minute = math.floor(second / 60)\n",
        "    second -= minute * 60\n",
        "    return '%dm %ds' % (minute, second)\n",
        "\n",
        "# batch szie\n",
        "batch_size = 100\n",
        "# creates random batch string\n",
        "def batch(text):\n",
        "    start = random.randint(0, len(text) - batch_size)\n",
        "    end = start + batch_size\n",
        "    return text[start:end+1]\n",
        "\n",
        "# changes string to tensor \n",
        "def char_to_tensor(string):\n",
        "    tensor = torch.zeros(len(string)).long()\n",
        "    for i in range(len(string)):\n",
        "        tensor[i] = char_to_int[string[i]]\n",
        "    return Variable(tensor)\n",
        "\n",
        "# gets random training string in tensor\n",
        "def rand_x(text):    \n",
        "    data = batch(text)\n",
        "    x = char_to_tensor(data[:-1]).unsqueeze(1)\n",
        "    y = char_to_tensor(data[1:]).unsqueeze(1)\n",
        "   \n",
        "    return x, y\n",
        "\n",
        "\n",
        "\n"
      ],
      "execution_count": 0,
      "outputs": []
    },
    {
      "cell_type": "code",
      "metadata": {
        "id": "mALcfaCnk_4s",
        "colab_type": "code",
        "colab": {}
      },
      "source": [
        "# evaluates model\n",
        "def eval(seed, y, temp,decoder):\n",
        "    h = decoder.init_h()\n",
        "    seed_tensor = char_to_tensor(seed)\n",
        "    predict = seed\n",
        "\n",
        "   \n",
        "    for i in range(len(seed) - 1):\n",
        "        _, h = decoder(seed_tensor[i], h)\n",
        "        x = seed_tensor[-1]\n",
        "    \n",
        "    for i in range(y):\n",
        "        y, h = decoder(x, h)\n",
        "        \n",
        "        yp = y.data.view(-1)\n",
        "        yp = yp.div(temp).exp()\n",
        "\n",
        "        first = torch.multinomial(yp, 1)[0]\n",
        "        char = char_set[first]\n",
        "        predict += char\n",
        "        x = char_to_tensor(char)\n",
        "\n",
        "    return predict\n",
        "\n",
        "\n",
        "\n",
        "\n",
        "def train(x, y,decoder,criterion,opt):\n",
        "    h = decoder.init_h()\n",
        "    decoder.zero_grad()\n",
        "    loss = 0\n",
        "    for i in range(batch_size):\n",
        "        out, h = decoder(x[i], h)\n",
        "      \n",
        "\n",
        "        loss += criterion(out, y[i])\n",
        "    loss.backward()\n",
        "    opt.step()\n",
        "    avg_loss =  loss.data / batch_size\n",
        "\n",
        "    return avg_loss\n"
      ],
      "execution_count": 0,
      "outputs": []
    },
    {
      "cell_type": "code",
      "metadata": {
        "id": "fvaR-Qurr4b-",
        "colab_type": "code",
        "colab": {}
      },
      "source": [
        "import matplotlib.pyplot as plt\n",
        "import matplotlib.ticker as ticker\n",
        "\n",
        "def init_model(char_len, h, n_layers,lr,epochs,artist,model,bi,drop):\n",
        "  text = \"\"\n",
        "  if model==\"LSTM\":\n",
        "    decoder = LSTM(char_len, h, char_len, n_layers,bi,drop)\n",
        "  elif model==\"GRU\":\n",
        "    decoder= GRU(char_len, h, char_len, n_layers,bi,drop)\n",
        "  else:\n",
        "    return None\n",
        "  opt = torch.optim.Adam(decoder.parameters(), lr=lr)\n",
        "  criterion = nn.CrossEntropyLoss()\n",
        "  loss_avg = 0\n",
        "  text=texts[artist]\n",
        "  losses = []\n",
        "  for epoch in range(1, epochs+1):\n",
        "      \n",
        "      loss = train(*rand_x(text),decoder,criterion,opt)       \n",
        "      loss_avg += loss\n",
        "  \n",
        "      if epoch % 100 == 0:\n",
        "          print('[%s (%d %d%%) loss=%.4f model=%s,text=%s,learning rate= %s,bidirectional= %s,dropout =%.2f]' % (train_time(start), epoch, epoch / epochs * 100, loss_avg/100,model,artist,lr,bi,drop))\n",
        "          # change the seed string here by putting in eval(seed string)\n",
        "          print(eval('i hope you think ', 100,0.8,decoder), '\\n')\n",
        "\n",
        "      if epoch % 100 == 0:\n",
        "        losses.append(loss_avg / 100)\n",
        "        loss_avg = 0\n",
        "    return decoder\n",
        "  plt.figure()\n",
        "  plt.plot(losses)"
      ],
      "execution_count": 0,
      "outputs": []
    },
    {
      "cell_type": "code",
      "metadata": {
        "id": "_IF96tt-n7F-",
        "colab_type": "code",
        "outputId": "1fef8295-f6bf-41f9-c81f-4a132fbfc7cb",
        "colab": {
          "base_uri": "https://localhost:8080/",
          "height": 846
        }
      },
      "source": [
        "\n",
        "#set epochs\n",
        "epochs = 5000\n",
        "#set number of hidden layers\n",
        "h = 100\n",
        "#set number of rnn layers\n",
        "n_layers = 2\n",
        "#length of random training example\n",
        "batch_size = 100\n",
        "# set learning rate\n",
        "lr = 0.005\n",
        "start = time.time()\n",
        "# set model type\n",
        "lstm = \"LSTM\"\n",
        "gru = \"GRU\"\n",
        "# set to false to for non bidirectional\n",
        "bidirectional = True\n",
        "# set dropout\n",
        "drop = 0.2\n",
        "\n",
        "\n"
      ],
      "execution_count": 0,
      "outputs": [
        {
          "output_type": "stream",
          "text": [
            "[0m 24s (100 2%) loss=2.4258 model=LSTM,text=nightwish,learning rate= 0.005,bidirectional= True,dropout =0.20]\n",
            "i hope you think galleno the the yo diethe sere i dapistowdenting wane a fhe poulof to the s the wilef wileriend sill \n",
            "\n",
            "[0m 48s (200 4%) loss=2.1881 model=LSTM,text=nightwish,learning rate= 0.005,bidirectional= True,dropout =0.20]\n",
            "i hope you think the mistayhfor evere forestile love of wightling ithimich unang lilink the lighgind sose fold thithd \n",
            "\n",
            "[1m 12s (300 6%) loss=2.0655 model=LSTM,text=nightwish,learning rate= 0.005,bidirectional= True,dropout =0.20]\n",
            "i hope you think war hand to a dreary daut me of the farles anc heart doseboneyou so t this tond sefrows iden the me  \n",
            "\n",
            "[1m 36s (400 8%) loss=1.9898 model=LSTM,text=nightwish,learning rate= 0.005,bidirectional= True,dropout =0.20]\n",
            "i hope you think touch of the stanity in un one the skeard on an to snout sclows cowers the snompinged gild shis me t \n",
            "\n",
            "[2m 0s (500 10%) loss=1.9505 model=LSTM,text=nightwish,learning rate= 0.005,bidirectional= True,dropout =0.20]\n",
            "i hope you think to ser fall these the but the had pick it heartwishinyour joot the dast for a me one a passligray sj \n",
            "\n",
            "[2m 25s (600 12%) loss=1.9493 model=LSTM,text=nightwish,learning rate= 0.005,bidirectional= True,dropout =0.20]\n",
            "i hope you think are your byild a keep in this the pail wore finta wite your spake the pqreat yoio neke the heart of  \n",
            "\n",
            "[2m 49s (700 14%) loss=1.9322 model=LSTM,text=nightwish,learning rate= 0.005,bidirectional= True,dropout =0.20]\n",
            "i hope you think tures on a gate chiderslows the saised my deeped the crossedsloce to cast deather a casted grest you \n",
            "\n",
            "[3m 13s (800 16%) loss=1.9758 model=LSTM,text=nightwish,learning rate= 0.005,bidirectional= True,dropout =0.20]\n",
            "i hope you think sould mateas in for hearries its of end of no and daild to i ever a paythe sumberyyouraleds a dare m \n",
            "\n",
            "[3m 37s (900 18%) loss=1.9104 model=LSTM,text=nightwish,learning rate= 0.005,bidirectional= True,dropout =0.20]\n",
            "i hope you think strockbeastreather to knot of evirelwers in to the coirions lan roynsforevery or the conk on and oth \n",
            "\n",
            "[4m 2s (1000 20%) loss=1.8132 model=LSTM,text=nightwish,learning rate= 0.005,bidirectional= True,dropout =0.20]\n",
            "i hope you think of the argent have of this me everysto ling mornthe of the one night the behadle my in govenmy goosa \n",
            "\n",
            "[4m 26s (1100 22%) loss=1.9026 model=LSTM,text=nightwish,learning rate= 0.005,bidirectional= True,dropout =0.20]\n",
            "i hope you think meme the garman awarfees heart hoyes with your  unbeautifurent geath on one one the neve am to foryo \n",
            "\n",
            "[4m 51s (1200 24%) loss=1.8360 model=LSTM,text=nightwish,learning rate= 0.005,bidirectional= True,dropout =0.20]\n",
            "i hope you think gries who the smill of beaflowsbeamethe eust forid of a cands neatere the wover stalm of drong batch \n",
            "\n",
            "[5m 15s (1300 26%) loss=1.7871 model=LSTM,text=nightwish,learning rate= 0.005,bidirectional= True,dropout =0.20]\n",
            "i hope you think you with in mings place a come done must for you and faars farry sand the mering but the with a come \n",
            "\n",
            "[5m 40s (1400 28%) loss=1.8445 model=LSTM,text=nightwish,learning rate= 0.005,bidirectional= True,dropout =0.20]\n",
            "i hope you think wienweed insurtionbead in freis but deveill the path a dryen cabe why us will me we murethe litsic s \n",
            "\n",
            "[6m 5s (1500 30%) loss=1.8622 model=LSTM,text=nightwish,learning rate= 0.005,bidirectional= True,dropout =0.20]\n",
            "i hope you think seephat the hearsome beaut to here the way the poose the ride worri symphe be the withers oceans all \n",
            "\n",
            "[6m 29s (1600 32%) loss=1.8196 model=LSTM,text=nightwish,learning rate= 0.005,bidirectional= True,dropout =0.20]\n",
            "i hope you think one in the cryelightsher by the lie prive become a from a pless be the onediff cairient worlderster  \n",
            "\n",
            "[6m 54s (1700 34%) loss=1.7990 model=LSTM,text=nightwish,learning rate= 0.005,bidirectional= True,dropout =0.20]\n",
            "i hope you think unroinanlow whot loves on the painswelp buin to long to the sound that fandhand to the wandere sky a \n",
            "\n"
          ],
          "name": "stdout"
        }
      ]
    },
    {
      "cell_type": "code",
      "metadata": {
        "id": "zBkYb1nlGyW1",
        "colab_type": "code",
        "colab": {}
      },
      "source": [
        "# train and eval through init_model(char_len,hidden layer number, number of layers, learning rate, n of epochs, artist type,lstm or gru, bidirectional = false/true, drop = 0.0~1.0)\n",
        "model = init_model(char_len, h, n_layers,lr,epochs,\"taylorswift\",lstm,bidirectional,drop=0.2)\n"
      ],
      "execution_count": 0,
      "outputs": []
    },
    {
      "cell_type": "code",
      "execution_count": null,
      "metadata": {},
      "outputs": [],
      "source": [
        "#test model, eval(seed string,length of prediction string,temperature(randomness),trained model)\n",
        "eval(\"this is\",100,0.8,model)\n"
      ]
    }
  ],
  "metadata": {
    "colab": {
      "name": "Copy of rnn.ipynb",
      "provenance": [],
      "collapsed_sections": []
    },
    "kernelspec": {
      "name": "python3",
      "display_name": "Python 3"
    },
    "accelerator": "GPU"
  },
  "nbformat": 4,
  "nbformat_minor": 0
}