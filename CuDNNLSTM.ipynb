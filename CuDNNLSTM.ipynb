from google.colab import files
import pandas as pd
import io
import re
import numpy
from keras.models import Sequential
from keras.layers import Dense
from keras.layers import Dropout
from keras.layers import LSTM
from keras.callbacks import ModelCheckpoint
from keras.utils import np_utils


uploaded = files.upload()
lyrics = uploaded["kanye_verses.txt"].decode("utf-8").lower()
